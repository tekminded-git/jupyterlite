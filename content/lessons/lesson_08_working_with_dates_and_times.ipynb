{
  "cells": [
    {
      "cell_type": "markdown",
      "metadata": {},
      "source": [
        "# Lesson 08 \u2013 Working with Dates and Times\n",
        "\n",
        "Handle order dates, calculate durations between orders, and group by month. Demonstrate time zone handling for online sales across regions."
      ]
    },
    {
      "cell_type": "markdown",
      "metadata": {},
      "source": [
        "## Learning Objectives\n",
        "- `datetime` module, formatting dates, timedelta arithmetic."
      ]
    },
    {
      "cell_type": "markdown",
      "metadata": {},
      "source": [
        "## Loading the E-commerce Dataset"
      ]
    },
    {
      "cell_type": "code",
      "metadata": {},
      "execution_count": null,
      "outputs": [],
      "source": [
        "import pandas as pd\n",
        "import sys\n",
        "sys.path.append('python4finance')\n",
        "from generate_ecommerce_dataset import generate_ecommerce_dataset\n",
        "\n",
        "orders, order_items, products = generate_ecommerce_dataset()"
      ]
    },
    {
      "cell_type": "markdown",
      "metadata": {},
      "source": [
        "The dataset provides Orders, Order Items, and Products tables for analysis."
      ]
    },
    {
      "cell_type": "markdown",
      "metadata": {},
      "source": [
        "### Example 1: Preview Orders Data"
      ]
    },
    {
      "cell_type": "code",
      "metadata": {},
      "execution_count": null,
      "outputs": [],
      "source": [
        "orders.head()"
      ]
    },
    {
      "cell_type": "markdown",
      "metadata": {},
      "source": [
        "### Example 2: Count Total Orders"
      ]
    },
    {
      "cell_type": "code",
      "metadata": {},
      "execution_count": null,
      "outputs": [],
      "source": [
        "print('Total orders:', len(orders))"
      ]
    },
    {
      "cell_type": "markdown",
      "metadata": {},
      "source": [
        "### Example 3: Merge Orders with Items"
      ]
    },
    {
      "cell_type": "code",
      "metadata": {},
      "execution_count": null,
      "outputs": [],
      "source": [
        "merged = order_items.merge(orders, on='OrderID')\n",
        "merged.head()"
      ]
    },
    {
      "cell_type": "markdown",
      "metadata": {},
      "source": [
        "### Example 4: Revenue by Product Category"
      ]
    },
    {
      "cell_type": "code",
      "metadata": {},
      "execution_count": null,
      "outputs": [],
      "source": [
        "temp = order_items.merge(orders, on='OrderID').merge(products, on='ProductID')\n",
        "revenue = temp.groupby('ProductCategory')['PurchaseAmount'].sum()\n",
        "revenue.head()"
      ]
    },
    {
      "cell_type": "markdown",
      "metadata": {},
      "source": [
        "### Example 5: Plot Daily Order Counts"
      ]
    },
    {
      "cell_type": "code",
      "metadata": {},
      "execution_count": null,
      "outputs": [],
      "source": [
        "orders['OrderDate'] = pd.to_datetime(orders['OrderDate'])\n",
        "daily = orders.set_index('OrderDate').resample('D').size()\n",
        "daily.plot(figsize=(8,4))"
      ]
    },
    {
      "cell_type": "markdown",
      "metadata": {},
      "source": [
        "## Exercises\n",
        "1. Convert the OrderDate column to datetime and extract the month.\n",
        "2. Compute the number of days since each customer's previous order."
      ]
    }
  ],
  "metadata": {},
  "nbformat": 4,
  "nbformat_minor": 5
}

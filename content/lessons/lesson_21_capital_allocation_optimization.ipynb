{
  "cells": [
    {
      "cell_type": "markdown",
      "metadata": {},
      "source": [
        "# Lesson 21 \u2013 Capital Allocation Optimization\n",
        "\n",
        "Introduce optimization methods for budgeting and resource allocation. Provide a small example using `scipy.optimize` to allocate marketing spend across channels."
      ]
    },
    {
      "cell_type": "markdown",
      "metadata": {},
      "source": [
        "## Learning Objectives\n",
        "- objective functions, constraints, interpreting optimization results."
      ]
    },
    {
      "cell_type": "markdown",
      "metadata": {},
      "source": [
        "## Loading the E-commerce Dataset"
      ]
    },
    {
      "cell_type": "code",
      "metadata": {},
      "execution_count": null,
      "outputs": [],
      "source": [
        "import pandas as pd\n",
        "import sys\n",
        "sys.path.append('python4finance')\n",
        "from generate_ecommerce_dataset import generate_ecommerce_dataset\n",
        "\n",
        "orders, order_items, products = generate_ecommerce_dataset()"
      ]
    },
    {
      "cell_type": "markdown",
      "metadata": {},
      "source": [
        "The dataset provides Orders, Order Items, and Products tables for analysis."
      ]
    },
    {
      "cell_type": "markdown",
      "metadata": {},
      "source": [
        "### Example 1: Preview Orders Data"
      ]
    },
    {
      "cell_type": "code",
      "metadata": {},
      "execution_count": null,
      "outputs": [],
      "source": [
        "orders.head()"
      ]
    },
    {
      "cell_type": "markdown",
      "metadata": {},
      "source": [
        "### Example 2: Count Total Orders"
      ]
    },
    {
      "cell_type": "code",
      "metadata": {},
      "execution_count": null,
      "outputs": [],
      "source": [
        "print('Total orders:', len(orders))"
      ]
    },
    {
      "cell_type": "markdown",
      "metadata": {},
      "source": [
        "### Example 3: Merge Orders with Items"
      ]
    },
    {
      "cell_type": "code",
      "metadata": {},
      "execution_count": null,
      "outputs": [],
      "source": [
        "merged = order_items.merge(orders, on='OrderID')\n",
        "merged.head()"
      ]
    },
    {
      "cell_type": "markdown",
      "metadata": {},
      "source": [
        "### Example 4: Revenue by Product Category"
      ]
    },
    {
      "cell_type": "code",
      "metadata": {},
      "execution_count": null,
      "outputs": [],
      "source": [
        "temp = order_items.merge(orders, on='OrderID').merge(products, on='ProductID')\n",
        "revenue = temp.groupby('ProductCategory')['PurchaseAmount'].sum()\n",
        "revenue.head()"
      ]
    },
    {
      "cell_type": "markdown",
      "metadata": {},
      "source": [
        "### Example 5: Plot Daily Order Counts"
      ]
    },
    {
      "cell_type": "code",
      "metadata": {},
      "execution_count": null,
      "outputs": [],
      "source": [
        "orders['OrderDate'] = pd.to_datetime(orders['OrderDate'])\n",
        "daily = orders.set_index('OrderDate').resample('D').size()\n",
        "daily.plot(figsize=(8,4))"
      ]
    },
    {
      "cell_type": "markdown",
      "metadata": {},
      "source": [
        "## Exercises\n",
        "1. Define a cost function that maximizes projected revenue for different budget allocations.\n",
        "2. Use `scipy.optimize.minimize` to find the best allocation under a fixed budget."
      ]
    }
  ],
  "metadata": {},
  "nbformat": 4,
  "nbformat_minor": 5
}

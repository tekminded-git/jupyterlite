{
 "cells": [
  {
   "cell_type": "markdown",
   "id": "feb90e1e",
   "metadata": {},
   "source": [
    "# Building a Simple Backtest Engine for Strategy Evaluation"
   ]
  },
  {
   "cell_type": "code",
   "execution_count": null,
   "id": "39cacfec",
   "metadata": {},
   "outputs": [],
   "source": [
    "import pandas as pd\n",
    "import numpy as np\n",
    "import matplotlib.pyplot as plt\n",
    "from datetime import datetime, timedelta\n",
    "\n",
    "np.random.seed(42)"
   ]
  },
  {
   "cell_type": "code",
   "execution_count": null,
   "id": "c7ba5daa",
   "metadata": {},
   "outputs": [],
   "source": [
    "# Setup\n",
    "import pandas as pd\n",
    "import numpy as np\n",
    "import matplotlib.pyplot as plt\n",
    "from datetime import datetime, timedelta\n",
    "\n",
    "np.random.seed(42)\n",
    "\n",
    "# Simple Backtest\n",
    "capital = 1000\n",
    "prices = np.cumsum(np.random.normal(0, 1, 100)) + 100\n",
    "positions = np.where(np.diff(prices, prepend=prices[0]) > 0, 1, 0)\n",
    "returns = np.diff(prices, prepend=prices[0]) / prices\n",
    "portfolio = capital * (1 + (returns * positions)).cumprod()\n",
    "plt.plot(portfolio)\n",
    "plt.title('Simple Strategy Equity Curve')\n",
    "plt.show()"
   ]
  }
 ],
 "metadata": {},
 "nbformat": 4,
 "nbformat_minor": 5
}

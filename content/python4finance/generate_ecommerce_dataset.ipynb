{
 "cells": [
  {
   "cell_type": "code",
   "execution_count": 1,
   "id": "e5b1ef1e-726c-4a13-8cad-a225bc1d21a6",
   "metadata": {
    "tags": []
   },
   "outputs": [
    {
     "ename": "ModuleNotFoundError",
     "evalue": "No module named 'piplite'",
     "output_type": "error",
     "traceback": [
      "\u001b[0;31m---------------------------------------------------------------------------\u001b[0m",
      "\u001b[0;31mModuleNotFoundError\u001b[0m                       Traceback (most recent call last)",
      "Cell \u001b[0;32mIn[1], line 3\u001b[0m\n\u001b[1;32m      1\u001b[0m \u001b[38;5;28;01mimport\u001b[39;00m \u001b[38;5;21;01mpandas\u001b[39;00m \u001b[38;5;28;01mas\u001b[39;00m \u001b[38;5;21;01mpd\u001b[39;00m\n\u001b[1;32m      2\u001b[0m \u001b[38;5;28;01mimport\u001b[39;00m \u001b[38;5;21;01mnumpy\u001b[39;00m \u001b[38;5;28;01mas\u001b[39;00m \u001b[38;5;21;01mnp\u001b[39;00m\n\u001b[0;32m----> 3\u001b[0m \u001b[38;5;28;01mimport\u001b[39;00m \u001b[38;5;21;01mpiplite\u001b[39;00m\n\u001b[1;32m      4\u001b[0m \u001b[38;5;28;01mawait\u001b[39;00m piplite\u001b[38;5;241m.\u001b[39minstall([\u001b[38;5;124m\"\u001b[39m\u001b[38;5;124mfaker\u001b[39m\u001b[38;5;124m\"\u001b[39m])\n\u001b[1;32m      5\u001b[0m \u001b[38;5;28;01mfrom\u001b[39;00m \u001b[38;5;21;01mfaker\u001b[39;00m \u001b[38;5;28;01mimport\u001b[39;00m Faker\n",
      "\u001b[0;31mModuleNotFoundError\u001b[0m: No module named 'piplite'"
     ]
    }
   ],
   "source": [
    "\n",
    "import pandas as pd\n",
    "import numpy as np\n",
    "import piplite\n",
    "await piplite.install([\"faker\"])\n",
    "from faker import Faker\n",
    "import random\n",
    "\n",
    "def generate_ecommerce_dataset(n_customers=500, n_orders=3000, n_products=100,\n",
    "                                min_items_per_order=1, max_items_per_order=10, seed=42):\n",
    "    fake = Faker()\n",
    "    np.random.seed(seed)\n",
    "    random.seed(seed)\n",
    "    Faker.seed(seed)\n",
    "\n",
    "    product_categories = ['Electronics', 'Clothing', 'Books', 'Home', 'Toys', 'Beauty', 'Grocery']\n",
    "    payment_methods = ['Credit Card', 'PayPal', 'Gift Card', 'Bitcoin']\n",
    "    device_types = ['Mobile', 'Desktop', 'Tablet']\n",
    "    locations = ['New York', 'California', 'Texas', 'Florida', 'Illinois', 'Washington', 'Arizona']\n",
    "\n",
    "    # Generate Customers\n",
    "    customer_ids = [f\"CUST{i:05d}\" for i in range(1, n_customers + 1)]\n",
    "\n",
    "    # Generate Products Table\n",
    "    product_ids = [f\"PROD{i:05d}\" for i in range(1, n_products + 1)]\n",
    "    products_df = pd.DataFrame({\n",
    "        \"ProductID\": product_ids,\n",
    "        \"ProductCategory\": [np.random.choice(product_categories) for _ in range(n_products)],\n",
    "        \"ProductName\": [fake.catch_phrase() for _ in range(n_products)],\n",
    "        \"BasePrice\": np.round(np.random.uniform(5, 500, size=n_products), 2)\n",
    "    })\n",
    "\n",
    "    # Generate Orders Table\n",
    "    order_ids = [f\"ORD{i:05d}\" for i in range(1, n_orders + 1)]\n",
    "    orders_df = pd.DataFrame({\n",
    "        \"OrderID\": order_ids,\n",
    "        \"CustomerID\": np.random.choice(customer_ids, size=n_orders),\n",
    "        \"OrderDate\": [fake.date_between(start_date='-2y', end_date='today') for _ in range(n_orders)],\n",
    "        \"CustomerLocation\": np.random.choice(locations, size=n_orders),\n",
    "        \"PaymentMethod\": np.random.choice(payment_methods, size=n_orders),\n",
    "        \"DeviceType\": np.random.choice(device_types, size=n_orders),\n",
    "    })\n",
    "\n",
    "    # Generate Order Items (link to products)\n",
    "    order_items = []\n",
    "    item_id_counter = 1\n",
    "\n",
    "    for order_id in order_ids:\n",
    "        num_items = np.random.randint(min_items_per_order, max_items_per_order + 1)\n",
    "        for _ in range(num_items):\n",
    "            product_idx = np.random.randint(0, n_products)\n",
    "            product = products_df.iloc[product_idx]\n",
    "            item = {\n",
    "                \"ItemID\": f\"ITEM{item_id_counter:06d}\",\n",
    "                \"OrderID\": order_id,\n",
    "                \"ProductID\": product[\"ProductID\"],\n",
    "                \"PurchaseAmount\": np.round(product[\"BasePrice\"] * np.random.uniform(0.9, 1.2), 2)\n",
    "            }\n",
    "            order_items.append(item)\n",
    "            item_id_counter += 1\n",
    "\n",
    "    order_items_df = pd.DataFrame(order_items)\n",
    "\n",
    "    return orders_df, order_items_df, products_df\n"
   ]
  },
  {
   "cell_type": "code",
   "execution_count": null,
   "id": "3af2adac-e3cb-40ec-a9b7-0a10cd53f026",
   "metadata": {},
   "outputs": [],
   "source": []
  }
 ],
 "metadata": {
  "kernelspec": {
   "display_name": "Python 3 (ipykernel)",
   "language": "python",
   "name": "python3"
  },
  "language_info": {
   "codemirror_mode": {
    "name": "ipython",
    "version": 3
   },
   "file_extension": ".py",
   "mimetype": "text/x-python",
   "name": "python",
   "nbconvert_exporter": "python",
   "pygments_lexer": "ipython3",
   "version": "3.11.5"
  }
 },
 "nbformat": 4,
 "nbformat_minor": 5
}

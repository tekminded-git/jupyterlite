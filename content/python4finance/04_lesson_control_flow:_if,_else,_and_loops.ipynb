{
 "cells": [
  {
   "cell_type": "markdown",
   "id": "0e6a2816",
   "metadata": {},
   "source": [
    "# Control Flow: if, else, and loops\n",
    "\n",
    "This lesson explores **control flow: if, else, and loops** in the context of finance.\n"
   ]
  },
  {
   "cell_type": "code",
   "execution_count": null,
   "id": "7af1a172",
   "metadata": {},
   "outputs": [],
   "source": [
    "import pandas as pd\n",
    "import numpy as np\n",
    "import matplotlib.pyplot as plt\n",
    "from datetime import datetime, timedelta\n",
    "np.random.seed(42)"
   ]
  },
  {
   "cell_type": "markdown",
   "id": "7cfca174",
   "metadata": {},
   "source": [
    "## Control Flow in Python\n",
    "Finance involves decision-making:\n",
    "- Should you buy?\n",
    "- Is the price over a threshold?\n"
   ]
  },
  {
   "cell_type": "code",
   "execution_count": null,
   "id": "4c8eccf0",
   "metadata": {},
   "outputs": [],
   "source": [
    "price = 250\n",
    "if price > 200:\n",
    "    print('High price')\n",
    "else:\n",
    "    print('Buy now!')\n",
    "\n",
    "for i in range(3):\n",
    "    print(f'Day {i+1}: Simulating prices...')"
   ]
  }
 ],
 "metadata": {},
 "nbformat": 4,
 "nbformat_minor": 5
}

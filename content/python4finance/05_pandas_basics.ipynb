{
 "cells": [
  {
   "cell_type": "markdown",
   "id": "f3418757",
   "metadata": {},
   "source": [
    "# Working with Financial Data Using Pandas: Series and DataFrames"
   ]
  },
  {
   "cell_type": "code",
   "execution_count": null,
   "id": "9a64d794",
   "metadata": {},
   "outputs": [],
   "source": [
    "import pandas as pd\n",
    "import numpy as np\n",
    "import matplotlib.pyplot as plt\n",
    "from datetime import datetime, timedelta\n",
    "\n",
    "np.random.seed(42)"
   ]
  },
  {
   "cell_type": "code",
   "execution_count": null,
   "id": "65e75dfa",
   "metadata": {},
   "outputs": [],
   "source": [
    "# Setup\n",
    "import pandas as pd\n",
    "import numpy as np\n",
    "import matplotlib.pyplot as plt\n",
    "from datetime import datetime, timedelta\n",
    "\n",
    "np.random.seed(42)\n",
    "\n",
    "# Pandas Series and DataFrames\n",
    "symbols = ['AAPL', 'MSFT', 'GOOG']\n",
    "prices = [150, 300, 2800]\n",
    "series = pd.Series(prices, index=symbols)\n",
    "print(series)\n",
    "\n",
    "data = pd.DataFrame({\n",
    "    'Date': pd.date_range(start='2022-01-01', periods=5),\n",
    "    'AAPL': np.random.randint(150, 170, 5),\n",
    "    'MSFT': np.random.randint(280, 310, 5)\n",
    "})\n",
    "print(data)"
   ]
  }
 ],
 "metadata": {},
 "nbformat": 4,
 "nbformat_minor": 5
}

{
 "cells": [
  {
   "cell_type": "markdown",
   "id": "54ab7716",
   "metadata": {},
   "source": [
    "# Functions and Scope\n",
    "\n",
    "This lesson explores **functions and scope** in the context of finance.\n"
   ]
  },
  {
   "cell_type": "code",
   "execution_count": null,
   "id": "58897b32",
   "metadata": {},
   "outputs": [],
   "source": [
    "import pandas as pd\n",
    "import numpy as np\n",
    "import matplotlib.pyplot as plt\n",
    "from datetime import datetime, timedelta\n",
    "np.random.seed(42)"
   ]
  },
  {
   "cell_type": "markdown",
   "id": "a2c5331e",
   "metadata": {},
   "source": [
    "## Functions: Reusability\n",
    "Functions help encapsulate logic."
   ]
  },
  {
   "cell_type": "code",
   "execution_count": null,
   "id": "d4d7d8e0",
   "metadata": {},
   "outputs": [],
   "source": [
    "def calculate_return(initial, final):\n",
    "    return (final - initial) / initial\n",
    "\n",
    "print('Return:', calculate_return(100, 120))"
   ]
  }
 ],
 "metadata": {},
 "nbformat": 4,
 "nbformat_minor": 5
}

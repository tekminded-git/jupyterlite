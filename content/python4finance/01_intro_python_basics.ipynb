{
 "cells": [
  {
   "cell_type": "markdown",
   "id": "689b08f1",
   "metadata": {},
   "source": [
    "# Introduction to Python: Variables, Data Types, and Basic Operations"
   ]
  },
  {
   "cell_type": "code",
   "execution_count": null,
   "id": "c70da9bd",
   "metadata": {},
   "outputs": [],
   "source": [
    "import pandas as pd\n",
    "import numpy as np\n",
    "import matplotlib.pyplot as plt\n",
    "from datetime import datetime, timedelta\n",
    "\n",
    "np.random.seed(42)"
   ]
  },
  {
   "cell_type": "code",
   "execution_count": null,
   "id": "36652db0",
   "metadata": {},
   "outputs": [],
   "source": [
    "# Setup\n",
    "import pandas as pd\n",
    "import numpy as np\n",
    "import matplotlib.pyplot as plt\n",
    "from datetime import datetime, timedelta\n",
    "\n",
    "np.random.seed(42)\n",
    "\n",
    "# Variables and Data Types\n",
    "x = 10\n",
    "y = 5.5\n",
    "z = 'finance'\n",
    "print(f'x = {x}, y = {y}, z = {z}')\n",
    "\n",
    "# Basic operations\n",
    "profit = x * y\n",
    "print(f'Profit = {profit}')"
   ]
  }
 ],
 "metadata": {},
 "nbformat": 4,
 "nbformat_minor": 5
}

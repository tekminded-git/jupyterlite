{
 "cells": [
  {
   "cell_type": "markdown",
   "id": "48332e6c",
   "metadata": {},
   "source": [
    "# Introduction to Python for Finance\n",
    "\n",
    "This lesson explores **introduction to python for finance** in the context of finance.\n"
   ]
  },
  {
   "cell_type": "code",
   "execution_count": null,
   "id": "8cd0e334",
   "metadata": {},
   "outputs": [],
   "source": [
    "import pandas as pd\n",
    "import numpy as np\n",
    "import matplotlib.pyplot as plt\n",
    "from datetime import datetime, timedelta\n",
    "np.random.seed(42)"
   ]
  },
  {
   "cell_type": "markdown",
   "id": "96172aed",
   "metadata": {},
   "source": [
    "## Why Learn Python for Finance?\n",
    "Python is a powerful language with wide adoption in the financial industry. It's used for:\n",
    "- Data analysis\n",
    "- Modeling\n",
    "- Risk management\n",
    "- Portfolio optimization\n",
    "- Algorithmic trading\n"
   ]
  },
  {
   "cell_type": "code",
   "execution_count": null,
   "id": "cfe2880d",
   "metadata": {},
   "outputs": [],
   "source": [
    "# Your first Python code\n",
    "print('Welcome to Python for Finance!')\n",
    "print('Let\\'s analyze data like a pro.')"
   ]
  }
 ],
 "metadata": {},
 "nbformat": 4,
 "nbformat_minor": 5
}

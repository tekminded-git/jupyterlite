{
 "cells": [
  {
   "cell_type": "markdown",
   "id": "85a7a1c1",
   "metadata": {},
   "source": [
    "# Data Cleaning and Preprocessing: Handling Missing and Erroneous Data"
   ]
  },
  {
   "cell_type": "code",
   "execution_count": null,
   "id": "65168ca5",
   "metadata": {},
   "outputs": [],
   "source": [
    "import pandas as pd\n",
    "import numpy as np\n",
    "import matplotlib.pyplot as plt\n",
    "from datetime import datetime, timedelta\n",
    "\n",
    "np.random.seed(42)"
   ]
  },
  {
   "cell_type": "code",
   "execution_count": null,
   "id": "bbd557f2",
   "metadata": {},
   "outputs": [],
   "source": [
    "# Setup\n",
    "import pandas as pd\n",
    "import numpy as np\n",
    "import matplotlib.pyplot as plt\n",
    "from datetime import datetime, timedelta\n",
    "\n",
    "np.random.seed(42)\n",
    "\n",
    "# Handling Missing Data\n",
    "data = pd.DataFrame({\n",
    "    'Price': [100, np.nan, 102, np.nan, 105]\n",
    "})\n",
    "print('Original Data:')\n",
    "print(data)\n",
    "\n",
    "print('Fill Forward:')\n",
    "print(data.fillna(method='ffill'))"
   ]
  }
 ],
 "metadata": {},
 "nbformat": 4,
 "nbformat_minor": 5
}

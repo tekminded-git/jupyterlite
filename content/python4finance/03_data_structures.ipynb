{
 "cells": [
  {
   "cell_type": "markdown",
   "id": "30a4843d",
   "metadata": {},
   "source": [
    "# Python Data Structures for Finance: Lists, Dictionaries, Tuples, and Sets"
   ]
  },
  {
   "cell_type": "code",
   "execution_count": null,
   "id": "c7cb18dc",
   "metadata": {},
   "outputs": [],
   "source": [
    "import pandas as pd\n",
    "import numpy as np\n",
    "import matplotlib.pyplot as plt\n",
    "from datetime import datetime, timedelta\n",
    "\n",
    "np.random.seed(42)"
   ]
  },
  {
   "cell_type": "code",
   "execution_count": null,
   "id": "f2783760",
   "metadata": {},
   "outputs": [],
   "source": [
    "# Setup\n",
    "import pandas as pd\n",
    "import numpy as np\n",
    "import matplotlib.pyplot as plt\n",
    "from datetime import datetime, timedelta\n",
    "\n",
    "np.random.seed(42)\n",
    "\n",
    "# Lists and Dictionaries\n",
    "assets = ['AAPL', 'MSFT', 'GOOG']\n",
    "prices = {'AAPL': 150, 'MSFT': 300, 'GOOG': 2800}\n",
    "\n",
    "print(assets)\n",
    "print(prices['AAPL'])"
   ]
  }
 ],
 "metadata": {},
 "nbformat": 4,
 "nbformat_minor": 5
}

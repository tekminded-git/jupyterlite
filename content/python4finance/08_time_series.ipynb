{
 "cells": [
  {
   "cell_type": "markdown",
   "id": "91d1ed0b",
   "metadata": {},
   "source": [
    "# Working with Time Series Data: Stock Prices and Returns"
   ]
  },
  {
   "cell_type": "code",
   "execution_count": null,
   "id": "11026400",
   "metadata": {},
   "outputs": [],
   "source": [
    "import pandas as pd\n",
    "import numpy as np\n",
    "import matplotlib.pyplot as plt\n",
    "from datetime import datetime, timedelta\n",
    "\n",
    "np.random.seed(42)"
   ]
  },
  {
   "cell_type": "code",
   "execution_count": null,
   "id": "3249f217",
   "metadata": {},
   "outputs": [],
   "source": [
    "# Setup\n",
    "import pandas as pd\n",
    "import numpy as np\n",
    "import matplotlib.pyplot as plt\n",
    "from datetime import datetime, timedelta\n",
    "\n",
    "np.random.seed(42)\n",
    "\n",
    "# Time Series\n",
    "start_date = datetime.today()\n",
    "dates = [start_date - timedelta(days=i) for i in range(100)][::-1]\n",
    "prices = np.cumsum(np.random.normal(0, 1, 100)) + 100\n",
    "df = pd.DataFrame({'Date': dates, 'Price': prices})\n",
    "df.set_index('Date', inplace=True)\n",
    "print(df.head())"
   ]
  }
 ],
 "metadata": {},
 "nbformat": 4,
 "nbformat_minor": 5
}

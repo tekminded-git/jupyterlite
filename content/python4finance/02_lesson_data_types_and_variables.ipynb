{
 "cells": [
  {
   "cell_type": "markdown",
   "id": "3d07c935",
   "metadata": {},
   "source": [
    "# Data Types and Variables\n",
    "\n",
    "This lesson explores **data types and variables** in the context of finance.\n"
   ]
  },
  {
   "cell_type": "code",
   "execution_count": null,
   "id": "6ef7137b",
   "metadata": {},
   "outputs": [],
   "source": [
    "import pandas as pd\n",
    "import numpy as np\n",
    "import matplotlib.pyplot as plt\n",
    "from datetime import datetime, timedelta\n",
    "np.random.seed(42)"
   ]
  },
  {
   "cell_type": "markdown",
   "id": "7bd641dc",
   "metadata": {},
   "source": [
    "## Variables and Data Types\n",
    "Variables store information. In finance, you might store prices, tickers, or interest rates."
   ]
  },
  {
   "cell_type": "code",
   "execution_count": null,
   "id": "831eab88",
   "metadata": {},
   "outputs": [],
   "source": [
    "ticker = 'AAPL'\n",
    "price = 189.50\n",
    "volume = 1200000\n",
    "print(f'Ticker: {ticker}, Price: {price}, Volume: {volume}')"
   ]
  }
 ],
 "metadata": {},
 "nbformat": 4,
 "nbformat_minor": 5
}

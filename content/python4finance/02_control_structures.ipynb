{
 "cells": [
  {
   "cell_type": "markdown",
   "id": "60c25bac",
   "metadata": {},
   "source": [
    "# Control Structures: if, for, while, and Functions"
   ]
  },
  {
   "cell_type": "code",
   "execution_count": null,
   "id": "7a14cf14",
   "metadata": {},
   "outputs": [],
   "source": [
    "import pandas as pd\n",
    "import numpy as np\n",
    "import matplotlib.pyplot as plt\n",
    "from datetime import datetime, timedelta\n",
    "\n",
    "np.random.seed(42)"
   ]
  },
  {
   "cell_type": "code",
   "execution_count": null,
   "id": "f0372ca0",
   "metadata": {},
   "outputs": [],
   "source": [
    "# Setup\n",
    "import pandas as pd\n",
    "import numpy as np\n",
    "import matplotlib.pyplot as plt\n",
    "from datetime import datetime, timedelta\n",
    "\n",
    "np.random.seed(42)\n",
    "\n",
    "# Conditional logic\n",
    "x = 100\n",
    "if x > 50:\n",
    "    print('High Value')\n",
    "\n",
    "# Loop example\n",
    "for i in range(5):\n",
    "    print(i)\n",
    "\n",
    "def calc_interest(principal, rate):\n",
    "    return principal * (1 + rate)\n",
    "\n",
    "print(calc_interest(1000, 0.05))"
   ]
  }
 ],
 "metadata": {},
 "nbformat": 4,
 "nbformat_minor": 5
}

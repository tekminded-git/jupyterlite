{
 "cells": [
  {
   "cell_type": "markdown",
   "id": "f3fdb8bc",
   "metadata": {},
   "source": [
    "# Numerical Computing with NumPy: Arrays, Operations, and Statistics"
   ]
  },
  {
   "cell_type": "code",
   "execution_count": null,
   "id": "9f62e204",
   "metadata": {},
   "outputs": [],
   "source": [
    "import pandas as pd\n",
    "import numpy as np\n",
    "import matplotlib.pyplot as plt\n",
    "from datetime import datetime, timedelta\n",
    "\n",
    "np.random.seed(42)"
   ]
  },
  {
   "cell_type": "code",
   "execution_count": null,
   "id": "e3e4368c",
   "metadata": {},
   "outputs": [],
   "source": [
    "# Setup\n",
    "import pandas as pd\n",
    "import numpy as np\n",
    "import matplotlib.pyplot as plt\n",
    "from datetime import datetime, timedelta\n",
    "\n",
    "np.random.seed(42)\n",
    "\n",
    "# NumPy Arrays\n",
    "returns = np.random.normal(loc=0.01, scale=0.02, size=100)\n",
    "print('Mean return:', np.mean(returns))\n",
    "print('Standard deviation:', np.std(returns))"
   ]
  }
 ],
 "metadata": {},
 "nbformat": 4,
 "nbformat_minor": 5
}

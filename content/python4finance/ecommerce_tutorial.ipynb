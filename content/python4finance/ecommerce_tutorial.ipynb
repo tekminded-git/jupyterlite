{
 "cells": [
  {
   "cell_type": "markdown",
   "id": "584d75da",
   "metadata": {},
   "source": [
    "# E-Commerce Dataset Tutorial\n",
    "\n",
    "This tutorial demonstrates how to generate and explore a synthetic e-commerce dataset using `pandas` and `matplotlib`."
   ]
  },
  {
   "cell_type": "code",
   "execution_count": null,
   "id": "28751b55",
   "metadata": {},
   "outputs": [],
   "source": [
    "from generate_ecommerce_dataset import generate_ecommerce_dataset\n",
    "\n",
    "# Generate the dataset with a fixed seed for reproducibility\n",
    "orders, order_items, products = generate_ecommerce_dataset(seed=123)\n",
    "\n",
    "# Preview the datasets\n",
    "orders.head()"
   ]
  },
  {
   "cell_type": "code",
   "execution_count": null,
   "id": "ab6c21af",
   "metadata": {},
   "outputs": [],
   "source": [
    "order_items.head()"
   ]
  },
  {
   "cell_type": "code",
   "execution_count": null,
   "id": "d04e241e",
   "metadata": {},
   "outputs": [],
   "source": [
    "products.head()"
   ]
  },
  {
   "cell_type": "markdown",
   "id": "e44f8bfb",
   "metadata": {},
   "source": [
    "## Most Common Product Categories"
   ]
  },
  {
   "cell_type": "code",
   "execution_count": null,
   "id": "3d566b2c",
   "metadata": {},
   "outputs": [],
   "source": [
    "import matplotlib.pyplot as plt\n",
    "import pandas as pd\n",
    "\n",
    "category_counts = products['ProductCategory'].value_counts()\n",
    "category_counts.plot(kind='bar', title='Number of Products per Category')\n",
    "plt.ylabel('Number of Products')\n",
    "plt.xlabel('Category')\n",
    "plt.tight_layout()\n",
    "plt.show()"
   ]
  },
  {
   "cell_type": "markdown",
   "id": "5ff816a3",
   "metadata": {},
   "source": [
    "## Top Revenue-Generating Products"
   ]
  },
  {
   "cell_type": "code",
   "execution_count": null,
   "id": "e698cc6b",
   "metadata": {},
   "outputs": [],
   "source": [
    "product_revenue = order_items.groupby('ProductID')['PurchaseAmount'].sum()\n",
    "top_products = product_revenue.sort_values(ascending=False).head(10)\n",
    "\n",
    "# Merge to get product names\n",
    "top_products_df = pd.merge(top_products.reset_index(), products[['ProductID', 'ProductName']], on='ProductID')\n",
    "\n",
    "plt.figure(figsize=(10, 5))\n",
    "plt.barh(top_products_df['ProductName'], top_products_df['PurchaseAmount'])\n",
    "plt.xlabel('Revenue')\n",
    "plt.title('Top 10 Revenue-Generating Products')\n",
    "plt.gca().invert_yaxis()\n",
    "plt.tight_layout()\n",
    "plt.show()"
   ]
  },
  {
   "cell_type": "markdown",
   "id": "f7a4ce76",
   "metadata": {},
   "source": [
    "## Distribution of Orders by Payment Method"
   ]
  },
  {
   "cell_type": "code",
   "execution_count": null,
   "id": "ea7d4571",
   "metadata": {},
   "outputs": [],
   "source": [
    "orders['PaymentMethod'].value_counts().plot(kind='pie', autopct='%1.1f%%', title='Payment Methods')\n",
    "plt.ylabel('')\n",
    "plt.show()"
   ]
  }
 ],
 "metadata": {},
 "nbformat": 4,
 "nbformat_minor": 5
}

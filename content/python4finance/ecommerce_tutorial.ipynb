{
 "cells": [
  {
   "cell_type": "markdown",
   "id": "584d75da",
   "metadata": {},
   "source": [
    "# E-Commerce Dataset Tutorial\n",
    "\n",
    "This tutorial demonstrates how to generate and explore a synthetic e-commerce dataset using `pandas` and `matplotlib`."
   ]
  },
  {
   "cell_type": "code",
   "execution_count": 5,
   "id": "28751b55",
   "metadata": {
    "tags": []
   },
   "outputs": [
    {
     "data": {
      "text/html": [
       "<div>\n",
       "<style scoped>\n",
       "    .dataframe tbody tr th:only-of-type {\n",
       "        vertical-align: middle;\n",
       "    }\n",
       "\n",
       "    .dataframe tbody tr th {\n",
       "        vertical-align: top;\n",
       "    }\n",
       "\n",
       "    .dataframe thead th {\n",
       "        text-align: right;\n",
       "    }\n",
       "</style>\n",
       "<table border=\"1\" class=\"dataframe\">\n",
       "  <thead>\n",
       "    <tr style=\"text-align: right;\">\n",
       "      <th></th>\n",
       "      <th>OrderID</th>\n",
       "      <th>CustomerID</th>\n",
       "      <th>OrderDate</th>\n",
       "      <th>CustomerLocation</th>\n",
       "      <th>PaymentMethod</th>\n",
       "      <th>DeviceType</th>\n",
       "    </tr>\n",
       "  </thead>\n",
       "  <tbody>\n",
       "    <tr>\n",
       "      <th>0</th>\n",
       "      <td>ORD00001</td>\n",
       "      <td>CUST00402</td>\n",
       "      <td>2025-05-08</td>\n",
       "      <td>New York</td>\n",
       "      <td>PayPal</td>\n",
       "      <td>Tablet</td>\n",
       "    </tr>\n",
       "    <tr>\n",
       "      <th>1</th>\n",
       "      <td>ORD00002</td>\n",
       "      <td>CUST00187</td>\n",
       "      <td>2025-02-22</td>\n",
       "      <td>New York</td>\n",
       "      <td>Credit Card</td>\n",
       "      <td>Mobile</td>\n",
       "    </tr>\n",
       "    <tr>\n",
       "      <th>2</th>\n",
       "      <td>ORD00003</td>\n",
       "      <td>CUST00195</td>\n",
       "      <td>2024-01-24</td>\n",
       "      <td>Texas</td>\n",
       "      <td>Bitcoin</td>\n",
       "      <td>Mobile</td>\n",
       "    </tr>\n",
       "    <tr>\n",
       "      <th>3</th>\n",
       "      <td>ORD00004</td>\n",
       "      <td>CUST00302</td>\n",
       "      <td>2023-11-13</td>\n",
       "      <td>Texas</td>\n",
       "      <td>Credit Card</td>\n",
       "      <td>Tablet</td>\n",
       "    </tr>\n",
       "    <tr>\n",
       "      <th>4</th>\n",
       "      <td>ORD00005</td>\n",
       "      <td>CUST00011</td>\n",
       "      <td>2024-05-01</td>\n",
       "      <td>Arizona</td>\n",
       "      <td>Bitcoin</td>\n",
       "      <td>Desktop</td>\n",
       "    </tr>\n",
       "  </tbody>\n",
       "</table>\n",
       "</div>"
      ],
      "text/plain": [
       "    OrderID CustomerID   OrderDate CustomerLocation PaymentMethod DeviceType\n",
       "0  ORD00001  CUST00402  2025-05-08         New York        PayPal     Tablet\n",
       "1  ORD00002  CUST00187  2025-02-22         New York   Credit Card     Mobile\n",
       "2  ORD00003  CUST00195  2024-01-24            Texas       Bitcoin     Mobile\n",
       "3  ORD00004  CUST00302  2023-11-13            Texas   Credit Card     Tablet\n",
       "4  ORD00005  CUST00011  2024-05-01          Arizona       Bitcoin    Desktop"
      ]
     },
     "execution_count": 5,
     "metadata": {},
     "output_type": "execute_result"
    }
   ],
   "source": [
    "%run generate_ecommerce_dataset.ipynb\n",
    "\n",
    "#from generate_ecommerce_dataset import generate_ecommerce_dataset\n",
    "\n",
    "# Generate the dataset with a fixed seed for reproducibility\n",
    "orders, order_items, products = generate_ecommerce_dataset(seed=123)\n",
    "\n",
    "# Preview the datasets\n",
    "orders.head()"
   ]
  },
  {
   "cell_type": "code",
   "execution_count": null,
   "id": "ab6c21af",
   "metadata": {},
   "outputs": [],
   "source": [
    "order_items.head()"
   ]
  },
  {
   "cell_type": "code",
   "execution_count": null,
   "id": "d04e241e",
   "metadata": {},
   "outputs": [],
   "source": [
    "products.head()"
   ]
  },
  {
   "cell_type": "markdown",
   "id": "e44f8bfb",
   "metadata": {},
   "source": [
    "## Most Common Product Categories"
   ]
  },
  {
   "cell_type": "code",
   "execution_count": null,
   "id": "3d566b2c",
   "metadata": {},
   "outputs": [],
   "source": [
    "import matplotlib.pyplot as plt\n",
    "import pandas as pd\n",
    "\n",
    "category_counts = products['ProductCategory'].value_counts()\n",
    "category_counts.plot(kind='bar', title='Number of Products per Category')\n",
    "plt.ylabel('Number of Products')\n",
    "plt.xlabel('Category')\n",
    "plt.tight_layout()\n",
    "plt.show()"
   ]
  },
  {
   "cell_type": "markdown",
   "id": "5ff816a3",
   "metadata": {},
   "source": [
    "## Top Revenue-Generating Products"
   ]
  },
  {
   "cell_type": "code",
   "execution_count": null,
   "id": "e698cc6b",
   "metadata": {},
   "outputs": [],
   "source": [
    "product_revenue = order_items.groupby('ProductID')['PurchaseAmount'].sum()\n",
    "top_products = product_revenue.sort_values(ascending=False).head(10)\n",
    "\n",
    "# Merge to get product names\n",
    "top_products_df = pd.merge(top_products.reset_index(), products[['ProductID', 'ProductName']], on='ProductID')\n",
    "\n",
    "plt.figure(figsize=(10, 5))\n",
    "plt.barh(top_products_df['ProductName'], top_products_df['PurchaseAmount'])\n",
    "plt.xlabel('Revenue')\n",
    "plt.title('Top 10 Revenue-Generating Products')\n",
    "plt.gca().invert_yaxis()\n",
    "plt.tight_layout()\n",
    "plt.show()"
   ]
  },
  {
   "cell_type": "markdown",
   "id": "f7a4ce76",
   "metadata": {},
   "source": [
    "## Distribution of Orders by Payment Method"
   ]
  },
  {
   "cell_type": "code",
   "execution_count": null,
   "id": "ea7d4571",
   "metadata": {},
   "outputs": [],
   "source": [
    "orders['PaymentMethod'].value_counts().plot(kind='pie', autopct='%1.1f%%', title='Payment Methods')\n",
    "plt.ylabel('')\n",
    "plt.show()"
   ]
  }
 ],
 "metadata": {
  "kernelspec": {
   "display_name": "Python 3 (ipykernel)",
   "language": "python",
   "name": "python3"
  },
  "language_info": {
   "codemirror_mode": {
    "name": "ipython",
    "version": 3
   },
   "file_extension": ".py",
   "mimetype": "text/x-python",
   "name": "python",
   "nbconvert_exporter": "python",
   "pygments_lexer": "ipython3",
   "version": "3.11.5"
  }
 },
 "nbformat": 4,
 "nbformat_minor": 5
}

{
 "cells": [
  {
   "cell_type": "markdown",
   "id": "584d75da",
   "metadata": {},
   "source": [
    "# E-Commerce Dataset Tutorial\n",
    "\n",
    "This tutorial demonstrates how to generate and explore a synthetic e-commerce dataset using `pandas` and `matplotlib`."
   ]
  },
  {
   "cell_type": "code",
   "execution_count": null,
   "id": "acc26244-3b5a-4966-afda-3152bbbcebd6",
   "metadata": {},
   "outputs": [],
   "source": [
    "import pandas as pd\n",
    "import piplite\n",
    "await piplite.install([\"faker\"])\n",
    "from faker import Faker\n",
    "from generate_ecommerce_dataset import generate_ecommerce_dataset\n",
    "\n",
    "# Generate the dataset with a fixed seed for reproducibility\n",
    "orders, order_items, products = generate_ecommerce_dataset()"
   ]
  },
  {
   "cell_type": "code",
   "execution_count": null,
   "id": "28751b55",
   "metadata": {
    "tags": []
   },
   "outputs": [],
   "source": [
    "# Preview the datasets\n",
    "orders.head()"
   ]
  },
  {
   "cell_type": "code",
   "execution_count": null,
   "id": "ab6c21af",
   "metadata": {
    "tags": []
   },
   "outputs": [],
   "source": [
    "order_items.head()"
   ]
  },
  {
   "cell_type": "code",
   "execution_count": null,
   "id": "d04e241e",
   "metadata": {
    "tags": []
   },
   "outputs": [],
   "source": [
    "products.head()"
   ]
  },
  {
   "cell_type": "markdown",
   "id": "e44f8bfb",
   "metadata": {},
   "source": [
    "## Most Common Product Categories"
   ]
  },
  {
   "cell_type": "code",
   "execution_count": null,
   "id": "3d566b2c",
   "metadata": {
    "tags": []
   },
   "outputs": [],
   "source": [
    "import matplotlib.pyplot as plt\n",
    "import pandas as pd\n",
    "\n",
    "category_counts = products['ProductCategory'].value_counts()\n",
    "category_counts.plot(kind='bar', title='Number of Products per Category')\n",
    "plt.ylabel('Number of Products')\n",
    "plt.xlabel('Category')\n",
    "plt.tight_layout()\n",
    "plt.show()"
   ]
  },
  {
   "cell_type": "markdown",
   "id": "f7a4ce76",
   "metadata": {},
   "source": [
    "## Distribution of Orders by Payment Method"
   ]
  },
  {
   "cell_type": "code",
   "execution_count": null,
   "id": "ea7d4571",
   "metadata": {
    "tags": []
   },
   "outputs": [],
   "source": [
    "orders['PaymentMethod'].value_counts().plot(kind='pie', autopct='%1.1f%%', title='Payment Methods')\n",
    "plt.ylabel('')\n",
    "plt.show()"
   ]
  },
  {
   "cell_type": "code",
   "execution_count": null,
   "id": "3ecfc6df-def4-41a3-867c-fc97a12eac43",
   "metadata": {},
   "outputs": [],
   "source": []
  }
 ],
 "metadata": {
  "kernelspec": {
   "display_name": "Python 3 (ipykernel)",
   "language": "python",
   "name": "python3"
  },
  "language_info": {
   "codemirror_mode": {
    "name": "ipython",
    "version": 3
   },
   "file_extension": ".py",
   "mimetype": "text/x-python",
   "name": "python",
   "nbconvert_exporter": "python",
   "pygments_lexer": "ipython3",
   "version": "3.11.5"
  }
 },
 "nbformat": 4,
 "nbformat_minor": 5
}

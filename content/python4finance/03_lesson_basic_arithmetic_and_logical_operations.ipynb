{
 "cells": [
  {
   "cell_type": "markdown",
   "id": "adb8624d",
   "metadata": {},
   "source": [
    "# Basic Arithmetic and Logical Operations\n",
    "\n",
    "This lesson explores **basic arithmetic and logical operations** in the context of finance.\n"
   ]
  },
  {
   "cell_type": "code",
   "execution_count": null,
   "id": "78abb930",
   "metadata": {},
   "outputs": [],
   "source": [
    "import pandas as pd\n",
    "import numpy as np\n",
    "import matplotlib.pyplot as plt\n",
    "from datetime import datetime, timedelta\n",
    "np.random.seed(42)"
   ]
  },
  {
   "cell_type": "markdown",
   "id": "b12aeed9",
   "metadata": {},
   "source": [
    "## Arithmetic and Logic in Finance\n",
    "You often need to compute returns, profits, or compare thresholds."
   ]
  },
  {
   "cell_type": "code",
   "execution_count": null,
   "id": "ba1211e7",
   "metadata": {},
   "outputs": [],
   "source": [
    "purchase_price = 150\n",
    "sell_price = 180\n",
    "profit = sell_price - purchase_price\n",
    "print(f'Profit: {profit}')\n",
    "\n",
    "print('Profit > 20:', profit > 20)"
   ]
  }
 ],
 "metadata": {},
 "nbformat": 4,
 "nbformat_minor": 5
}

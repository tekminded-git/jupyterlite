{
 "cells": [
  {
   "cell_type": "markdown",
   "id": "276763b0",
   "metadata": {},
   "source": [
    "# Calculating Key Financial Metrics: ROI, Volatility, Sharpe Ratio"
   ]
  },
  {
   "cell_type": "code",
   "execution_count": null,
   "id": "b030e361",
   "metadata": {},
   "outputs": [],
   "source": [
    "import pandas as pd\n",
    "import numpy as np\n",
    "import matplotlib.pyplot as plt\n",
    "from datetime import datetime, timedelta\n",
    "\n",
    "np.random.seed(42)"
   ]
  },
  {
   "cell_type": "code",
   "execution_count": null,
   "id": "ed2441b3",
   "metadata": {},
   "outputs": [],
   "source": [
    "# Setup\n",
    "import pandas as pd\n",
    "import numpy as np\n",
    "import matplotlib.pyplot as plt\n",
    "from datetime import datetime, timedelta\n",
    "\n",
    "np.random.seed(42)\n",
    "\n",
    "# Financial Metrics\n",
    "returns = np.random.normal(0.01, 0.02, 252)\n",
    "roi = np.sum(returns)\n",
    "volatility = np.std(returns)\n",
    "sharpe = roi / volatility\n",
    "print(f'ROI: {roi:.2f}, Volatility: {volatility:.2f}, Sharpe Ratio: {sharpe:.2f}')"
   ]
  }
 ],
 "metadata": {},
 "nbformat": 4,
 "nbformat_minor": 5
}
